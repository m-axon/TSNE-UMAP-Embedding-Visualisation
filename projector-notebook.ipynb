{
 "cells": [
  {
   "cell_type": "markdown",
   "metadata": {},
   "source": [
    "# Stand-alone TensorBoard Projector Demonstration\n",
    "Based on TensorFlow's publicly available \"demo\" code.\n",
    "## Sources\n",
    "\n",
    "github repositories:\n",
    "- https://github.com/harveyslash/TSNE-UMAP-Embedding-Visualisation.git\n",
    "- https://github.com/tensorflow/embedding-projector-standalone\n",
    "\n",
    "Discussions:\n",
    "- https://github.com/tensorflow/tensorflow/issues/7562\n",
    "- https://stackoverflow.com/questions/41643365/standalone-tensorflow-projector"
   ]
  },
  {
   "cell_type": "markdown",
   "metadata": {},
   "source": [
    "## Setup\n",
    "\n",
    "In order to run a local projector, the library should contain the following files:\n",
    "- index.html\n",
    "- folder: oss_data\n",
    "  - oss_demo_projector_config.json (must)\n",
    "  - tensors.bytes (must)\n",
    "  - labels.tsv (optional)\n",
    "  - sprites.png (optional)\n",
    "\n",
    "Note: the json file points to the other files' location, so their location is flexible."
   ]
  },
  {
   "cell_type": "markdown",
   "metadata": {},
   "source": [
    "## Preparing\n",
    "Train a NN for MNIST dataset\n"
   ]
  },
  {
   "cell_type": "code",
   "execution_count": 168,
   "metadata": {},
   "outputs": [],
   "source": [
    "import json\n",
    "import os\n",
    "from PIL import Image\n",
    "import numpy as np\n",
    "import torch\n",
    "import torch.nn as nn\n",
    "from torch.utils.data import Dataset, DataLoader\n",
    "from torchvision.datasets import MNIST\n",
    "from torchvision.transforms import ToTensor\n",
    "import matplotlib.pyplot as plt\n",
    "from tqdm import tqdm"
   ]
  },
  {
   "cell_type": "code",
   "execution_count": 169,
   "metadata": {},
   "outputs": [
    {
     "name": "stdout",
     "output_type": "stream",
     "text": [
      "Dataset MNIST\n",
      "    Number of datapoints: 60000\n",
      "    Root location: ./data\n",
      "    Split: Train\n",
      "    StandardTransform\n",
      "Transform: ToTensor()\n",
      "Dataset MNIST\n",
      "    Number of datapoints: 10000\n",
      "    Root location: ./data\n",
      "    Split: Test\n",
      "    StandardTransform\n",
      "Transform: ToTensor()\n"
     ]
    }
   ],
   "source": [
    "os.makedirs('./data', exist_ok=True)\n",
    "mnist_train = MNIST(root='./data', train=True, download=True, transform=ToTensor())\n",
    "mnist_test = MNIST(root='./data', train=False, download=True, transform=ToTensor())\n",
    "\n",
    "print(mnist_train)\n",
    "print(mnist_test)\n"
   ]
  },
  {
   "cell_type": "code",
   "execution_count": 170,
   "metadata": {},
   "outputs": [],
   "source": [
    "train_dataloader = DataLoader(mnist_train, batch_size=64, shuffle=True)\n",
    "test_dataloader = DataLoader(mnist_test, batch_size=64, shuffle=False)"
   ]
  },
  {
   "cell_type": "code",
   "execution_count": 171,
   "metadata": {},
   "outputs": [
    {
     "name": "stdout",
     "output_type": "stream",
     "text": [
      "torch.Size([64, 1, 28, 28]) torch.Size([64])\n"
     ]
    }
   ],
   "source": [
    "x, y = next(iter(test_dataloader))\n",
    "print(x.shape, y.shape)"
   ]
  },
  {
   "cell_type": "markdown",
   "metadata": {},
   "source": [
    "Model to have an 'embedding' method"
   ]
  },
  {
   "cell_type": "code",
   "execution_count": 172,
   "metadata": {},
   "outputs": [],
   "source": [
    "class SimpleNet(nn.Module):\n",
    "    def __init__(self):\n",
    "        super(SimpleNet, self).__init__()\n",
    "\n",
    "        self.encoder = nn.Sequential(\n",
    "            nn.Flatten(start_dim=1, end_dim=-1),\n",
    "            nn.Linear(in_features=28*28, out_features=128, bias=True),\n",
    "            nn.ReLU(),\n",
    "            nn.Linear(in_features=128, out_features=16, bias=True),\n",
    "            nn.ReLU(),\n",
    "        )\n",
    "        self.head = nn.Linear(in_features=16, out_features=10, bias=True)\n",
    "    \n",
    "    def forward(self, x):\n",
    "        return self.head(self.embedding(x))\n",
    "    \n",
    "    def embedding(self, x):\n",
    "        return self.encoder(x)\n"
   ]
  },
  {
   "cell_type": "code",
   "execution_count": 173,
   "metadata": {},
   "outputs": [],
   "source": [
    "device = 'cuda' if torch.cuda.is_available() else 'cpu'\n",
    "model = SimpleNet().to(device)"
   ]
  },
  {
   "cell_type": "code",
   "execution_count": 175,
   "metadata": {},
   "outputs": [
    {
     "name": "stderr",
     "output_type": "stream",
     "text": [
      "100%|██████████| 938/938 [00:05<00:00, 173.69it/s]\n"
     ]
    },
    {
     "name": "stdout",
     "output_type": "stream",
     "text": [
      "epoch: 1/5: loss: 0.7232, accuracy: 0.7809\n"
     ]
    },
    {
     "name": "stderr",
     "output_type": "stream",
     "text": [
      "100%|██████████| 938/938 [00:05<00:00, 176.86it/s]\n"
     ]
    },
    {
     "name": "stdout",
     "output_type": "stream",
     "text": [
      "epoch: 2/5: loss: 0.2675, accuracy: 0.9220\n"
     ]
    },
    {
     "name": "stderr",
     "output_type": "stream",
     "text": [
      "100%|██████████| 938/938 [00:05<00:00, 176.39it/s]\n"
     ]
    },
    {
     "name": "stdout",
     "output_type": "stream",
     "text": [
      "epoch: 3/5: loss: 0.1907, accuracy: 0.9453\n"
     ]
    },
    {
     "name": "stderr",
     "output_type": "stream",
     "text": [
      "100%|██████████| 938/938 [00:05<00:00, 178.07it/s]\n"
     ]
    },
    {
     "name": "stdout",
     "output_type": "stream",
     "text": [
      "epoch: 4/5: loss: 0.1469, accuracy: 0.9573\n"
     ]
    },
    {
     "name": "stderr",
     "output_type": "stream",
     "text": [
      "100%|██████████| 938/938 [00:05<00:00, 177.50it/s]"
     ]
    },
    {
     "name": "stdout",
     "output_type": "stream",
     "text": [
      "epoch: 5/5: loss: 0.1191, accuracy: 0.9655\n"
     ]
    },
    {
     "name": "stderr",
     "output_type": "stream",
     "text": [
      "\n"
     ]
    }
   ],
   "source": [
    "loss_fn = nn.CrossEntropyLoss(reduction='sum')\n",
    "optim = torch.optim.SGD(model.parameters(), lr=1e-4, momentum=.9)\n",
    "model.train()\n",
    "\n",
    "EPOCHS = 2\n",
    "losses = []\n",
    "accuracies = []\n",
    "total_samples = 0\n",
    "\n",
    "for epoch in range(EPOCHS):\n",
    "    batch_loss = 0\n",
    "    correct = 0\n",
    "    total_samples = 0\n",
    "\n",
    "    for X, y in tqdm(train_dataloader):\n",
    "        X = X.to(device)\n",
    "        y = y.to(device)\n",
    "\n",
    "        logits = model(X.to(device))\n",
    "        loss = loss_fn(logits, y)\n",
    "        \n",
    "        optim.zero_grad()\n",
    "        loss.backward()\n",
    "        optim.step()\n",
    "\n",
    "        batch_loss += loss.item()\n",
    "        y_pred = logits.argmax(dim=1)\n",
    "        correct += (y_pred == y).to(torch.float32).sum().item()\n",
    "        total_samples += y.shape[0]\n",
    "\n",
    "    batch_loss /= total_samples\n",
    "    batch_acc = correct / total_samples\n",
    "    losses.append(batch_loss)\n",
    "    accuracies.append(batch_acc)\n",
    "    print(f'epoch: {epoch+1}/{EPOCHS}: loss: {batch_loss:.4f}, accuracy: {batch_acc:.4f}')\n",
    "    "
   ]
  },
  {
   "cell_type": "code",
   "execution_count": 176,
   "metadata": {},
   "outputs": [
    {
     "name": "stdout",
     "output_type": "stream",
     "text": [
      "Test Accuaracy:  0.9631\n"
     ]
    }
   ],
   "source": [
    "correct = 0\n",
    "samples = 0\n",
    "with torch.no_grad():\n",
    "    for X, y in test_dataloader:\n",
    "        X = X.to(device)\n",
    "        y = y.to(device)\n",
    "        logits = model(X.to(device))\n",
    "        y_pred = logits.argmax(dim=1)\n",
    "        correct += (y_pred == y).to(torch.float32).sum().item()\n",
    "        samples += y.shape[0]\n",
    "\n",
    "acc = correct / samples\n",
    "print('Test Accuaracy: ', acc)"
   ]
  },
  {
   "cell_type": "markdown",
   "metadata": {},
   "source": [
    "### Generate Projector Files"
   ]
  },
  {
   "cell_type": "markdown",
   "metadata": {},
   "source": [
    "Code for generating image grid"
   ]
  },
  {
   "cell_type": "code",
   "execution_count": 105,
   "metadata": {},
   "outputs": [],
   "source": [
    "def images_to_sprite(data):\n",
    "    \"\"\"\n",
    "    Creates the sprite image along with any necessary padding\n",
    "    Source : https://github.com/tensorflow/tensorflow/issues/6322\n",
    "    Args:\n",
    "      data: NxHxW[x3] tensor containing the images.\n",
    "    Returns:\n",
    "      data: Properly shaped HxWx3 image with any necessary padding.\n",
    "    \"\"\"\n",
    "    if len(data.shape) == 3:\n",
    "        data = np.tile(data[..., np.newaxis], (1, 1, 1, 3))\n",
    "    data = data.astype(np.float32)\n",
    "    min = np.min(data.reshape((data.shape[0], -1)), axis=1)\n",
    "    data = (data.transpose(1, 2, 3, 0) - min).transpose(3, 0, 1, 2)\n",
    "    max = np.max(data.reshape((data.shape[0], -1)), axis=1)\n",
    "    data = (data.transpose(1, 2, 3, 0) / max).transpose(3, 0, 1, 2)\n",
    "\n",
    "    n = int(np.ceil(np.sqrt(data.shape[0])))\n",
    "    padding = ((0, n ** 2 - data.shape[0]), (0, 0),\n",
    "               (0, 0)) + ((0, 0),) * (data.ndim - 3)\n",
    "    data = np.pad(data, padding, mode='constant',\n",
    "                  constant_values=0)\n",
    "    # Tile the individual thumbnails into an image.\n",
    "    data = data.reshape((n, n) + data.shape[1:]).transpose(\n",
    "        (0, 2, 1, 3) + tuple(range(4, data.ndim + 1))\n",
    "    )\n",
    "    data = data.reshape(\n",
    "        (n * data.shape[1], n * data.shape[3]) + data.shape[4:])\n",
    "    data = (data * 255).astype(np.uint8)\n",
    "    return data\n"
   ]
  },
  {
   "cell_type": "markdown",
   "metadata": {},
   "source": [
    "Gather original data, labels and embeddings"
   ]
  },
  {
   "cell_type": "code",
   "execution_count": 164,
   "metadata": {},
   "outputs": [],
   "source": [
    "metadata = []\n",
    "test_data, test_labels = next(iter(test_dataloader))\n",
    "train_data, train_labels = next(iter(train_dataloader))\n",
    "# data shape: [64, 1, 28, 28]\n",
    "\n",
    "# sprite generator expects \"channel last\"\n",
    "test_images = test_data.numpy().transpose((0, 2, 3, 1)).squeeze()\n",
    "train_images = train_data.numpy().transpose((0, 2, 3, 1)).squeeze()\n",
    "\n",
    "# generate embeddings\n",
    "with torch.no_grad():\n",
    "    test_embeddings = model.embedding(test_data.to(device)).cpu().detach().numpy()\n",
    "    train_embeddings = model.embedding(train_data.to(device)).cpu().detach().numpy()\n",
    "\n",
    "# gather all samples together\n",
    "images = np.vstack((test_images, train_images))\n",
    "embeddings = np.vstack((test_embeddings, train_embeddings))\n",
    "metadata.extend(['test\\t' + str(label.item()) for label in test_labels])\n",
    "metadata.extend(['train\\t' + str(label.item()) for label in train_labels])"
   ]
  },
  {
   "cell_type": "markdown",
   "metadata": {},
   "source": [
    "Save to file:\n",
    "\n",
    "    - *.bytes file (embeddings)\n",
    "\n",
    "    - *.tsv file (labels)\n",
    "\n",
    "    - *.png file (images)"
   ]
  },
  {
   "cell_type": "code",
   "execution_count": 165,
   "metadata": {},
   "outputs": [],
   "source": [
    "# create oss_data folder\n",
    "os.makedirs('./oss_data/', exist_ok=True)\n",
    "viz_name = 'MNIST'\n",
    "\n",
    "# generate *.bytes file\n",
    "embeddings.tofile(f'./oss_data/{viz_name}_embeddings.bytes')\n",
    "\n",
    "# generate metadata file\n",
    "txt = '\\n'.join(metadata)\n",
    "with open(f'./oss_data/{viz_name}_labels.tsv', 'w') as f:\n",
    "    f.write('set\\tclass\\n')\n",
    "    f.write(txt)\n",
    "f.close()"
   ]
  },
  {
   "cell_type": "code",
   "execution_count": 166,
   "metadata": {},
   "outputs": [
    {
     "data": {
      "text/plain": [
       "<matplotlib.image.AxesImage at 0x7febbcb13eb0>"
      ]
     },
     "execution_count": 166,
     "metadata": {},
     "output_type": "execute_result"
    },
    {
     "data": {
      "image/png": "[encoded data removed]",
      "text/plain": [
       "<Figure size 432x288 with 1 Axes>"
      ]
     },
     "metadata": {
      "needs_background": "light"
     },
     "output_type": "display_data"
    }
   ],
   "source": [
    "image_h, image_w = tuple(images.shape[1:])\n",
    "sprite = Image.fromarray(images_to_sprite(images))\n",
    "sprite.save(f'./oss_data/{viz_name}_sprite.png')\n",
    "plt.imshow(sprite)"
   ]
  },
  {
   "cell_type": "markdown",
   "metadata": {},
   "source": [
    "### Configuration file\n",
    "A structured format\n",
    "\n",
    "Includes paths to the data/labels/sprite files"
   ]
  },
  {
   "cell_type": "code",
   "execution_count": 177,
   "metadata": {},
   "outputs": [],
   "source": [
    "# generate config file\n",
    "oss_json = {'embeddings': [{\"tensorName\": viz_name,\n",
    "                            \"tensorShape\": list(embeddings.shape),\n",
    "                            \"tensorPath\": f\"./oss_data/{viz_name}_embeddings.bytes\",\n",
    "                            \"metadataPath\": f\"./oss_data/{viz_name}_labels.tsv\",\n",
    "                            \"sprite\": {\"imagePath\": f\"./oss_data/{viz_name}_sprite.png\",\n",
    "                                            \"singleImageDim\": [image_h, image_w]}\n",
    "                            }],\n",
    "            \"modelCheckpointPath\": \"MNIST local model\",\n",
    "            }\n",
    "with open('oss_data/oss_demo_projector_config.json', 'w') as f:\n",
    "    json.dump(oss_json, f, ensure_ascii=False, indent=4)\n",
    "\n"
   ]
  },
  {
   "cell_type": "markdown",
   "metadata": {},
   "source": [
    "In the Terminal from root folder:\n",
    "\n",
    "`python3 -m http.server`"
   ]
  },
  {
   "cell_type": "markdown",
   "metadata": {},
   "source": []
  }
 ],
 "metadata": {
  "kernelspec": {
   "display_name": "Python 3.8.10 64-bit",
   "language": "python",
   "name": "python3"
  },
  "language_info": {
   "codemirror_mode": {
    "name": "ipython",
    "version": 3
   },
   "file_extension": ".py",
   "mimetype": "text/x-python",
   "name": "python",
   "nbconvert_exporter": "python",
   "pygments_lexer": "ipython3",
   "version": "3.8.10"
  },
  "orig_nbformat": 4,
  "vscode": {
   "interpreter": {
    "hash": "916dbcbb3f70747c44a77c7bcd40155683ae19c65e1c03b4aa3499c5328201f1"
   }
  }
 },
 "nbformat": 4,
 "nbformat_minor": 2
}
